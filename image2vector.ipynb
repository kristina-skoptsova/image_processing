{
  "cells": [
    {
      "cell_type": "markdown",
      "metadata": {
        "id": "view-in-github",
        "colab_type": "text"
      },
      "source": [
        "<a href=\"https://colab.research.google.com/github/kristina-skoptsova/image_processing/blob/main/image2vector.ipynb\" target=\"_parent\"><img src=\"https://colab.research.google.com/assets/colab-badge.svg\" alt=\"Open In Colab\"/></a>"
      ]
    },
    {
      "cell_type": "markdown",
      "metadata": {
        "id": "_HBs58Yng-sJ"
      },
      "source": [
        "# Пример векторизации изображений\n"
      ]
    },
    {
      "cell_type": "markdown",
      "metadata": {
        "id": "4mH2Hqupg-sN"
      },
      "source": [
        "## Упрощенно по полутонам\n"
      ]
    },
    {
      "cell_type": "code",
      "source": [
        "!git clone 'https://github.com/kristina-skoptsova/image_processing'"
      ],
      "metadata": {
        "colab": {
          "base_uri": "https://localhost:8080/"
        },
        "id": "lRaIXo_ahqRY",
        "outputId": "117ca3e9-67f2-44c9-b014-fbe7da1259b6"
      },
      "execution_count": 1,
      "outputs": [
        {
          "output_type": "stream",
          "name": "stdout",
          "text": [
            "Cloning into 'image_processing'...\n",
            "remote: Enumerating objects: 2330, done.\u001b[K\n",
            "remote: Counting objects: 100% (178/178), done.\u001b[K\n",
            "remote: Compressing objects: 100% (157/157), done.\u001b[K\n",
            "remote: Total 2330 (delta 27), reused 155 (delta 16), pack-reused 2152 (from 1)\u001b[K\n",
            "Receiving objects: 100% (2330/2330), 131.46 MiB | 29.89 MiB/s, done.\n",
            "Resolving deltas: 100% (28/28), done.\n"
          ]
        }
      ]
    },
    {
      "cell_type": "code",
      "source": [
        "!pip install svgwrite"
      ],
      "metadata": {
        "colab": {
          "base_uri": "https://localhost:8080/"
        },
        "id": "OMalzzRYjJ1C",
        "outputId": "0bee57f6-4b24-465f-b281-36cfd933f032"
      },
      "execution_count": 3,
      "outputs": [
        {
          "output_type": "stream",
          "name": "stdout",
          "text": [
            "Collecting svgwrite\n",
            "  Downloading svgwrite-1.4.3-py3-none-any.whl.metadata (8.8 kB)\n",
            "Downloading svgwrite-1.4.3-py3-none-any.whl (67 kB)\n",
            "\u001b[?25l   \u001b[90m━━━━━━━━━━━━━━━━━━━━━━━━━━━━━━━━━━━━━━━━\u001b[0m \u001b[32m0.0/67.1 kB\u001b[0m \u001b[31m?\u001b[0m eta \u001b[36m-:--:--\u001b[0m\r\u001b[2K   \u001b[90m━━━━━━━━━━━━━━━━━━━━━━━━━━━━━━━━━━━━━━━━\u001b[0m \u001b[32m67.1/67.1 kB\u001b[0m \u001b[31m3.0 MB/s\u001b[0m eta \u001b[36m0:00:00\u001b[0m\n",
            "\u001b[?25hInstalling collected packages: svgwrite\n",
            "Successfully installed svgwrite-1.4.3\n"
          ]
        }
      ]
    },
    {
      "cell_type": "code",
      "execution_count": 5,
      "metadata": {
        "id": "Tk39dHsWg-sO"
      },
      "outputs": [],
      "source": [
        "from PIL import Image\n",
        "import svgwrite\n",
        "\n",
        "# Функция, которая позволяет конвертировать растровое изображение в векторный формат 1 0\n",
        "\n",
        "def raster_to_vector(input_file, output_file):\n",
        "    # Открываем изображение и конвертируем в черно-белый формат\n",
        "    image = Image.open(input_file).convert(\"L\")\n",
        "    bw_image = image.point(lambda x: 0 if x < 128 else 255, \"1\")\n",
        "\n",
        "    # Получаем размер изображения\n",
        "    width, height = bw_image.size\n",
        "\n",
        "    # Создаем новый SVG файл\n",
        "    dwg = svgwrite.Drawing(output_file, profile=\"tiny\", size=(width, height))\n",
        "\n",
        "    # Обходим все пиксели изображения и добавляем линии в SVG\n",
        "    for y in range(height):\n",
        "        for x in range(width):\n",
        "            if bw_image.getpixel((x, y)) == 0:  # Черный пиксель\n",
        "                # Рисуем квадрат для черного пикселя\n",
        "                dwg.add(dwg.rect(insert=(x, y), size=(1, 1), fill=\"black\"))\n",
        "\n",
        "    # Сохраняем SVG файл\n",
        "    dwg.save()\n",
        "\n",
        "\n",
        "# Пример использования\n",
        "raster_to_vector(\"/content/image_processing/data/raster.png\", \"output_image.svg\")"
      ]
    },
    {
      "cell_type": "markdown",
      "metadata": {
        "id": "VuOJnK9mg-sR"
      },
      "source": [
        "## C распознаванием контуров\n"
      ]
    },
    {
      "cell_type": "code",
      "execution_count": 9,
      "metadata": {
        "id": "Iuo_YOgzg-sR"
      },
      "outputs": [],
      "source": [
        "import cv2\n",
        "import numpy as np\n",
        "import svgwrite\n",
        "from PIL import Image\n",
        "\n",
        "\n",
        "def raster_to_vector_with_contours(input_file, output_file):\n",
        "    # Открываем изображение и конвертируем в серый формат\n",
        "    image = cv2.imread(input_file, cv2.IMREAD_GRAYSCALE)\n",
        "\n",
        "    # Применяем алгоритм Кэнни для обнаружения краев\n",
        "    edges = cv2.Canny(image, 50, 100) # 100 -  начальный уровень границ(игнор), 200 - иксели с градиентом выше этого значения будут определены как края(классификация,связь)\n",
        "# чем меньше, тем больше четкость\n",
        "    # Находим контуры на изображении\n",
        "    contours, _ = cv2.findContours(edges, cv2.RETR_TREE, cv2.CHAIN_APPROX_SIMPLE)\n",
        "\n",
        "    # Получаем размер изображения\n",
        "    height, width = edges.shape\n",
        "\n",
        "    # Создаем новый SVG файл\n",
        "    dwg = svgwrite.Drawing(output_file, profile=\"tiny\", size=(width, height))\n",
        "\n",
        "    # Добавляем контуры в SVG файл\n",
        "    for contour in contours:\n",
        "        # Преобразуем контур в список кортежей с координатами\n",
        "        points = [(int(point[0][0]), int(point[0][1])) for point in contour]\n",
        "        if points:\n",
        "            # Добавляем полилинию в SVG файл\n",
        "            dwg.add(dwg.polyline(points, stroke=\"black\", fill=\"none\"))\n",
        "\n",
        "    # Сохраняем SVG файл\n",
        "    dwg.save()\n",
        "\n",
        "\n",
        "# Пример использования\n",
        "raster_to_vector_with_contours(\"/content/image_processing/data/raster.png\", \"output_image.svg\")"
      ]
    }
  ],
  "metadata": {
    "kernelspec": {
      "display_name": "Python 3",
      "name": "python3"
    },
    "language_info": {
      "codemirror_mode": {
        "name": "ipython",
        "version": 3
      },
      "file_extension": ".py",
      "mimetype": "text/x-python",
      "name": "python",
      "nbconvert_exporter": "python",
      "pygments_lexer": "ipython3",
      "version": "3.10.11"
    },
    "colab": {
      "provenance": [],
      "gpuType": "T4",
      "include_colab_link": true
    },
    "accelerator": "GPU"
  },
  "nbformat": 4,
  "nbformat_minor": 0
}